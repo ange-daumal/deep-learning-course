{
  "nbformat": 4,
  "nbformat_minor": 0,
  "metadata": {
    "colab": {
      "name": "Chapter02_Cat-vs-Dog_TransferLearning.ipynb",
      "provenance": [],
      "collapsed_sections": []
    },
    "kernelspec": {
      "name": "python3",
      "display_name": "Python 3"
    },
    "language_info": {
      "name": "python"
    }
  },
  "cells": [
    {
      "cell_type": "markdown",
      "source": [
        "# Transfer Learning\n",
        "\n",
        "Make sure to read [Keras's guide to transfer learning and fine tuning](https://keras.io/guides/transfer_learning/)\n",
        "\n",
        "## Load the pretrained model"
      ],
      "metadata": {
        "id": "ETVAA_E94TMY"
      }
    },
    {
      "cell_type": "code",
      "source": [
        "import tensorflow as tf\n",
        "from tensorflow import keras\n",
        "\n",
        "pretrained_model = keras.applications.VGG16(weights=\"imagenet\", include_top=False)\n",
        "\n",
        "print(f\"This model has {len(pretrained_model.layers)} layers:\")\n",
        "for layer in pretrained_model.layers:\n",
        "  print(layer)\n",
        "\n",
        "# Note: try to set `include_top` to True, to see which layers aren't included here."
      ],
      "metadata": {
        "colab": {
          "base_uri": "https://localhost:8080/"
        },
        "id": "db30Auac7IKZ",
        "outputId": "7c62a0c6-83b9-4680-8952-f2babf68b90b"
      },
      "execution_count": 11,
      "outputs": [
        {
          "output_type": "stream",
          "name": "stdout",
          "text": [
            "This model has 19 layers:\n",
            "<keras.engine.input_layer.InputLayer object at 0x7fb112dce410>\n",
            "<keras.layers.convolutional.Conv2D object at 0x7fb112decf90>\n",
            "<keras.layers.convolutional.Conv2D object at 0x7fb112e9ff10>\n",
            "<keras.layers.pooling.MaxPooling2D object at 0x7fb112d77e90>\n",
            "<keras.layers.convolutional.Conv2D object at 0x7fb112dec450>\n",
            "<keras.layers.convolutional.Conv2D object at 0x7fb112d36e90>\n",
            "<keras.layers.pooling.MaxPooling2D object at 0x7fb112ea9d50>\n",
            "<keras.layers.convolutional.Conv2D object at 0x7fb112d3e650>\n",
            "<keras.layers.convolutional.Conv2D object at 0x7fb112d46150>\n",
            "<keras.layers.convolutional.Conv2D object at 0x7fb112d3ee10>\n",
            "<keras.layers.pooling.MaxPooling2D object at 0x7fb112d50950>\n",
            "<keras.layers.convolutional.Conv2D object at 0x7fb112d53350>\n",
            "<keras.layers.convolutional.Conv2D object at 0x7fb112d568d0>\n",
            "<keras.layers.convolutional.Conv2D object at 0x7fb112d501d0>\n",
            "<keras.layers.pooling.MaxPooling2D object at 0x7fb112d62dd0>\n",
            "<keras.layers.convolutional.Conv2D object at 0x7fb112d67610>\n",
            "<keras.layers.convolutional.Conv2D object at 0x7fb112d64e90>\n",
            "<keras.layers.convolutional.Conv2D object at 0x7fb112d5da90>\n",
            "<keras.layers.pooling.MaxPooling2D object at 0x7fb112d9f7d0>\n"
          ]
        }
      ]
    },
    {
      "cell_type": "code",
      "source": [
        "# Freeze the pretrained model. That way, the weights won't be updated during our training.\n",
        "pretrained_model.trainable = False"
      ],
      "metadata": {
        "id": "GGYjaVl78fEr"
      },
      "execution_count": null,
      "outputs": []
    },
    {
      "cell_type": "markdown",
      "source": [
        "# Load the data"
      ],
      "metadata": {
        "id": "69VQ2gHu7CTW"
      }
    },
    {
      "cell_type": "code",
      "source": [
        "# From Google Drive with Colaboratory\n",
        "\n",
        "from google.colab import drive\n",
        "import os\n",
        "\n",
        "drive.mount('/content/gdrive')\n",
        "os.listdir(\"/content/gdrive/MyDrive\")"
      ],
      "metadata": {
        "colab": {
          "base_uri": "https://localhost:8080/"
        },
        "id": "PtnHMgpY4_RT",
        "outputId": "2e00d9e2-95ad-4f9f-a562-2888cc7b1296"
      },
      "execution_count": 4,
      "outputs": [
        {
          "output_type": "stream",
          "name": "stdout",
          "text": [
            "Drive already mounted at /content/gdrive; to attempt to forcibly remount, call drive.mount(\"/content/gdrive\", force_remount=True).\n"
          ]
        },
        {
          "output_type": "execute_result",
          "data": {
            "text/plain": [
              "['datasets', 'Colab Notebooks']"
            ]
          },
          "metadata": {},
          "execution_count": 4
        }
      ]
    },
    {
      "cell_type": "code",
      "source": [
        ""
      ],
      "metadata": {
        "id": "ymvXGM9Q5R3u"
      },
      "execution_count": null,
      "outputs": []
    },
    {
      "cell_type": "code",
      "source": [
        ""
      ],
      "metadata": {
        "id": "gx1j9JOw7Aqu"
      },
      "execution_count": null,
      "outputs": []
    },
    {
      "cell_type": "code",
      "source": [
        ""
      ],
      "metadata": {
        "id": "GBiyg1ZY5KpY"
      },
      "execution_count": null,
      "outputs": []
    },
    {
      "cell_type": "code",
      "execution_count": 1,
      "metadata": {
        "id": "OuT4IP7P4P7R"
      },
      "outputs": [],
      "source": [
        ""
      ]
    }
  ]
}